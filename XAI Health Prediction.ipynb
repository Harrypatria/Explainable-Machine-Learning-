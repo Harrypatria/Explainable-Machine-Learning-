{
  "nbformat": 4,
  "nbformat_minor": 0,
  "metadata": {
    "colab": {
      "private_outputs": true,
      "provenance": [],
      "collapsed_sections": [
        "yWT9_sW5Gqzv"
      ]
    },
    "kernelspec": {
      "name": "python3",
      "display_name": "Python 3"
    },
    "language_info": {
      "name": "python"
    }
  },
  "cells": [
    {
      "cell_type": "markdown",
      "metadata": {
        "id": "yWT9_sW5Gqzv"
      },
      "source": [
        "###Install Dependencies"
      ]
    },
    {
      "cell_type": "code",
      "metadata": {
        "id": "pRaPFD233pLu"
      },
      "source": [
        "!pip install shap"
      ],
      "execution_count": null,
      "outputs": []
    },
    {
      "cell_type": "markdown",
      "metadata": {
        "id": "p_Xo3hQlDGVj"
      },
      "source": [
        "###Load Dataset\n",
        "\n"
      ]
    },
    {
      "cell_type": "markdown",
      "metadata": {
        "id": "pEshZg1_JFKZ"
      },
      "source": [
        "####Diabetes Dataset\n",
        "\n",
        "Ten baseline variables, age, sex, body mass index, average blood pressure, and six blood serum measurements were obtained for each of n = 442 diabetes patients, as well as the response of interest, a quantitative measure of disease progression one year after baseline.\n",
        "\n",
        "- Samples total: 442\n",
        "- Dimensionality: 10\n",
        "- Features: real, -.2 < x < .2\n",
        "  - age age in years\n",
        "  - sex\n",
        "  - bmi body mass index\n",
        "  - bp average blood pressure\n",
        "  - s1 tc, T-Cells (a type of white blood cells)\n",
        "  - s2 ldl, low-density lipoproteins\n",
        "  - s3 hdl, high-density lipoproteins\n",
        "  - s4 tch, thyroid stimulating hormone\n",
        "  - s5 ltg, lamotrigine\n",
        "  - s6 glu, blood sugar level\n",
        "- Targets: integer 25 - 346\n",
        "\n",
        "Note: Each of these 10 feature variables have been mean centered and scaled by the standard deviation times n_samples (i.e. the sum of squares of each column totals 1).\n",
        "\n",
        "Source URL: https://www4.stat.ncsu.edu/~boos/var.select/diabetes.html\n",
        "\n",
        "For more information see: Bradley Efron, Trevor Hastie, Iain Johnstone and Robert Tibshirani (2004) “Least Angle Regression,” Annals of Statistics (with discussion), 407-499. (https://web.stanford.edu/~hastie/Papers/LARS/LeastAngle_2002.pdf)"
      ]
    },
    {
      "cell_type": "code",
      "metadata": {
        "id": "T5-WLz9n7_K9"
      },
      "source": [
        "import sklearn\n",
        "from sklearn.model_selection import train_test_split\n",
        "import numpy as np\n",
        "import shap\n",
        "import time\n",
        "\n",
        "X,y = shap.datasets.diabetes()\n",
        "display(X.head())"
      ],
      "execution_count": null,
      "outputs": []
    },
    {
      "cell_type": "markdown",
      "metadata": {
        "id": "sP26i6jyJT_b"
      },
      "source": [
        "### Train Linear Regression Model"
      ]
    },
    {
      "cell_type": "code",
      "metadata": {
        "id": "dn7t97mGFHqN"
      },
      "source": [
        "# Split the dataset into training and testing \n",
        "X_train,X_test,y_train,y_test = train_test_split(X, y, test_size=0.2, random_state=0)\n",
        "\n",
        "print('Training Features Shape', X_train.shape)\n",
        "print('Training Target Shape', y_train.shape)\n",
        "print()\n",
        "print('Testing Features Shape', X_test.shape)\n",
        "print('Testing Target Shape', y_test.shape)"
      ],
      "execution_count": null,
      "outputs": []
    },
    {
      "cell_type": "code",
      "metadata": {
        "id": "QM1HBNyl_QJ0"
      },
      "source": [
        "# rather than use the whole training set to estimate expected values, we summarize with\n",
        "# a set of weighted kmeans, each weighted by the number of points they represent.\n",
        "X_train_summary = shap.kmeans(X_train, 10)\n",
        "\n",
        "def print_accuracy(f):\n",
        "    print(\"Root mean squared test error = {0}\".format(np.sqrt(np.mean((f(X_test) - y_test)**2))))\n",
        "    time.sleep(0.5) # to let the print get out before any progress bars"
      ],
      "execution_count": null,
      "outputs": []
    },
    {
      "cell_type": "code",
      "metadata": {
        "id": "VgMsLY2x8DoD"
      },
      "source": [
        "# Train a linear regression model\n",
        "from sklearn import linear_model\n",
        "lin_regr = linear_model.LinearRegression()\n",
        "lin_regr.fit(X_train, y_train)\n",
        "\n",
        "# Evaluate the trained model\n",
        "print_accuracy(lin_regr.predict)"
      ],
      "execution_count": null,
      "outputs": []
    },
    {
      "cell_type": "markdown",
      "metadata": {
        "id": "W2gde69wJkM4"
      },
      "source": [
        "### Explain Linear Regression Predictions"
      ]
    },
    {
      "cell_type": "code",
      "metadata": {
        "id": "ZJ_feXm6BYQG"
      },
      "source": [
        "# Explain a single prediction\n",
        "\n",
        "shap.initjs()\n",
        "\n",
        "ex = shap.KernelExplainer(lin_regr.predict, X_train_summary)\n",
        "shap_values = ex.shap_values(X_test.iloc[0,:])\n",
        "shap.force_plot(ex.expected_value, shap_values, X_test.iloc[0,:])"
      ],
      "execution_count": null,
      "outputs": []
    },
    {
      "cell_type": "code",
      "metadata": {
        "id": "wLnsekxlB0IO"
      },
      "source": [
        "# Explain a single prediction\n",
        "\n",
        "shap.initjs()\n",
        "shap_values = ex.shap_values(X_test.iloc[45,:])\n",
        "shap.force_plot(ex.expected_value, shap_values, X_test.iloc[45,:])"
      ],
      "execution_count": null,
      "outputs": []
    },
    {
      "cell_type": "code",
      "metadata": {
        "id": "3Pm3l8SvBi4K"
      },
      "source": [
        "shap.initjs()\n",
        "\n",
        "shap_values = ex.shap_values(X_test)\n",
        "shap.summary_plot(shap_values, X_test)"
      ],
      "execution_count": null,
      "outputs": []
    },
    {
      "cell_type": "code",
      "metadata": {
        "id": "SsUs4S1U9ivf"
      },
      "source": [
        "shap.dependence_plot(\"bmi\", shap_values, X_test)\n"
      ],
      "execution_count": null,
      "outputs": []
    },
    {
      "cell_type": "markdown",
      "metadata": {
        "id": "xQrLWQfIJozz"
      },
      "source": [
        "### Train Random Forest"
      ]
    },
    {
      "cell_type": "code",
      "metadata": {
        "id": "ZFIByajKHNCt"
      },
      "source": [
        "from sklearn.ensemble import RandomForestRegressor\n",
        "rforest = RandomForestRegressor(n_estimators=1000, max_depth=None, min_samples_split=2, random_state=0)\n",
        "rforest.fit(X_train, y_train)\n",
        "print_accuracy(rforest.predict)"
      ],
      "execution_count": null,
      "outputs": []
    },
    {
      "cell_type": "markdown",
      "metadata": {
        "id": "awHhao2CJuFK"
      },
      "source": [
        "### Explain Random Forest Predictions"
      ]
    },
    {
      "cell_type": "code",
      "metadata": {
        "id": "QElB9nGDHidi"
      },
      "source": [
        "# explain all the predictions in the test set\n",
        "explainer = shap.TreeExplainer(rforest)\n",
        "shap_values = explainer.shap_values(X_test)\n",
        "shap.summary_plot(shap_values, X_test)"
      ],
      "execution_count": null,
      "outputs": []
    },
    {
      "cell_type": "code",
      "metadata": {
        "id": "uJYLM1_7HRLa"
      },
      "source": [
        "shap.dependence_plot(\"bmi\", shap_values, X_test)"
      ],
      "execution_count": null,
      "outputs": []
    },
    {
      "cell_type": "code",
      "metadata": {
        "id": "7tIi7Mw7Hs_A"
      },
      "source": [
        "shap.initjs()\n",
        "\n",
        "shap.force_plot(ex.expected_value, shap_values, X_test)"
      ],
      "execution_count": null,
      "outputs": []
    }
  ]
}